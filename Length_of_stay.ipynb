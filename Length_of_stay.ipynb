{
 "cells": [
  {
   "cell_type": "code",
   "execution_count": 1,
   "metadata": {
    "collapsed": true
   },
   "outputs": [],
   "source": [
    "import numpy as np\n",
    "import matplotlib.pyplot as plt\n",
    "import pandas as pd"
   ]
  },
  {
   "cell_type": "code",
   "execution_count": 2,
   "metadata": {
    "collapsed": false
   },
   "outputs": [
    {
     "data": {
      "text/html": [
       "<div>\n",
       "<style scoped>\n",
       "    .dataframe tbody tr th:only-of-type {\n",
       "        vertical-align: middle;\n",
       "    }\n",
       "\n",
       "    .dataframe tbody tr th {\n",
       "        vertical-align: top;\n",
       "    }\n",
       "\n",
       "    .dataframe thead th {\n",
       "        text-align: right;\n",
       "    }\n",
       "</style>\n",
       "<table border=\"1\" class=\"dataframe\">\n",
       "  <thead>\n",
       "    <tr style=\"text-align: right;\">\n",
       "      <th></th>\n",
       "      <th>date</th>\n",
       "      <th>location</th>\n",
       "      <th>age</th>\n",
       "      <th>disease</th>\n",
       "      <th>sevearity_of_the_disease</th>\n",
       "      <th>frequency_of_suffering</th>\n",
       "      <th>pulse</th>\n",
       "      <th>duration_of_suffering</th>\n",
       "      <th>length_of_stay</th>\n",
       "    </tr>\n",
       "  </thead>\n",
       "  <tbody>\n",
       "    <tr>\n",
       "      <th>0</th>\n",
       "      <td>06-04-2012</td>\n",
       "      <td>India</td>\n",
       "      <td>42</td>\n",
       "      <td>heartstroke</td>\n",
       "      <td>high</td>\n",
       "      <td>regural</td>\n",
       "      <td>96</td>\n",
       "      <td>6</td>\n",
       "      <td>3</td>\n",
       "    </tr>\n",
       "    <tr>\n",
       "      <th>1</th>\n",
       "      <td>07-05-2012</td>\n",
       "      <td>India</td>\n",
       "      <td>41</td>\n",
       "      <td>cancer</td>\n",
       "      <td>low</td>\n",
       "      <td>irregular</td>\n",
       "      <td>61</td>\n",
       "      <td>2</td>\n",
       "      <td>2</td>\n",
       "    </tr>\n",
       "    <tr>\n",
       "      <th>2</th>\n",
       "      <td>09-01-2012</td>\n",
       "      <td>India</td>\n",
       "      <td>42</td>\n",
       "      <td>heartstroke</td>\n",
       "      <td>moderate</td>\n",
       "      <td>irregular</td>\n",
       "      <td>64</td>\n",
       "      <td>4</td>\n",
       "      <td>1</td>\n",
       "    </tr>\n",
       "    <tr>\n",
       "      <th>3</th>\n",
       "      <td>05-11-2012</td>\n",
       "      <td>India</td>\n",
       "      <td>39</td>\n",
       "      <td>cancer</td>\n",
       "      <td>low</td>\n",
       "      <td>irregular</td>\n",
       "      <td>76</td>\n",
       "      <td>2</td>\n",
       "      <td>5</td>\n",
       "    </tr>\n",
       "    <tr>\n",
       "      <th>4</th>\n",
       "      <td>06-04-2012</td>\n",
       "      <td>India</td>\n",
       "      <td>43</td>\n",
       "      <td>cancer</td>\n",
       "      <td>low</td>\n",
       "      <td>regular</td>\n",
       "      <td>67</td>\n",
       "      <td>2</td>\n",
       "      <td>2</td>\n",
       "    </tr>\n",
       "    <tr>\n",
       "      <th>5</th>\n",
       "      <td>07-05-2012</td>\n",
       "      <td>India</td>\n",
       "      <td>44</td>\n",
       "      <td>bone fracture</td>\n",
       "      <td>high</td>\n",
       "      <td>irregular</td>\n",
       "      <td>83</td>\n",
       "      <td>6</td>\n",
       "      <td>7</td>\n",
       "    </tr>\n",
       "    <tr>\n",
       "      <th>6</th>\n",
       "      <td>09-01-2012</td>\n",
       "      <td>India</td>\n",
       "      <td>50</td>\n",
       "      <td>bone fracture</td>\n",
       "      <td>moderate</td>\n",
       "      <td>irregular</td>\n",
       "      <td>68</td>\n",
       "      <td>4</td>\n",
       "      <td>3</td>\n",
       "    </tr>\n",
       "    <tr>\n",
       "      <th>7</th>\n",
       "      <td>05-11-2012</td>\n",
       "      <td>India</td>\n",
       "      <td>29</td>\n",
       "      <td>fever</td>\n",
       "      <td>high</td>\n",
       "      <td>regular</td>\n",
       "      <td>63</td>\n",
       "      <td>6</td>\n",
       "      <td>3</td>\n",
       "    </tr>\n",
       "    <tr>\n",
       "      <th>8</th>\n",
       "      <td>09-01-2012</td>\n",
       "      <td>India</td>\n",
       "      <td>44</td>\n",
       "      <td>fever</td>\n",
       "      <td>high</td>\n",
       "      <td>regular</td>\n",
       "      <td>69</td>\n",
       "      <td>6</td>\n",
       "      <td>10</td>\n",
       "    </tr>\n",
       "    <tr>\n",
       "      <th>9</th>\n",
       "      <td>09-01-2012</td>\n",
       "      <td>India</td>\n",
       "      <td>27</td>\n",
       "      <td>heartstroke</td>\n",
       "      <td>moderate</td>\n",
       "      <td>irregular</td>\n",
       "      <td>65</td>\n",
       "      <td>4</td>\n",
       "      <td>2</td>\n",
       "    </tr>\n",
       "    <tr>\n",
       "      <th>10</th>\n",
       "      <td>09-01-2012</td>\n",
       "      <td>India</td>\n",
       "      <td>31</td>\n",
       "      <td>cancer</td>\n",
       "      <td>high</td>\n",
       "      <td>regular</td>\n",
       "      <td>73</td>\n",
       "      <td>6</td>\n",
       "      <td>8</td>\n",
       "    </tr>\n",
       "    <tr>\n",
       "      <th>11</th>\n",
       "      <td>09-01-2012</td>\n",
       "      <td>India</td>\n",
       "      <td>24</td>\n",
       "      <td>bone fracture</td>\n",
       "      <td>low</td>\n",
       "      <td>irregular</td>\n",
       "      <td>63</td>\n",
       "      <td>2</td>\n",
       "      <td>3</td>\n",
       "    </tr>\n",
       "    <tr>\n",
       "      <th>12</th>\n",
       "      <td>09-01-2012</td>\n",
       "      <td>India</td>\n",
       "      <td>34</td>\n",
       "      <td>heartstroke</td>\n",
       "      <td>moderate</td>\n",
       "      <td>irregular</td>\n",
       "      <td>82</td>\n",
       "      <td>4</td>\n",
       "      <td>6</td>\n",
       "    </tr>\n",
       "    <tr>\n",
       "      <th>13</th>\n",
       "      <td>09-01-2012</td>\n",
       "      <td>India</td>\n",
       "      <td>25</td>\n",
       "      <td>cancer</td>\n",
       "      <td>moderate</td>\n",
       "      <td>irregular</td>\n",
       "      <td>73</td>\n",
       "      <td>4</td>\n",
       "      <td>9</td>\n",
       "    </tr>\n",
       "    <tr>\n",
       "      <th>14</th>\n",
       "      <td>09-01-2012</td>\n",
       "      <td>India</td>\n",
       "      <td>8</td>\n",
       "      <td>fever</td>\n",
       "      <td>low</td>\n",
       "      <td>regular</td>\n",
       "      <td>69</td>\n",
       "      <td>2</td>\n",
       "      <td>6</td>\n",
       "    </tr>\n",
       "    <tr>\n",
       "      <th>15</th>\n",
       "      <td>06-04-2012</td>\n",
       "      <td>India</td>\n",
       "      <td>45</td>\n",
       "      <td>fever</td>\n",
       "      <td>high</td>\n",
       "      <td>irregular</td>\n",
       "      <td>68</td>\n",
       "      <td>6</td>\n",
       "      <td>30</td>\n",
       "    </tr>\n",
       "    <tr>\n",
       "      <th>16</th>\n",
       "      <td>06-04-2012</td>\n",
       "      <td>India</td>\n",
       "      <td>58</td>\n",
       "      <td>cancer</td>\n",
       "      <td>moderate</td>\n",
       "      <td>regular</td>\n",
       "      <td>66</td>\n",
       "      <td>4</td>\n",
       "      <td>7</td>\n",
       "    </tr>\n",
       "    <tr>\n",
       "      <th>17</th>\n",
       "      <td>06-04-2012</td>\n",
       "      <td>India</td>\n",
       "      <td>24</td>\n",
       "      <td>cancer</td>\n",
       "      <td>low</td>\n",
       "      <td>irregular</td>\n",
       "      <td>72</td>\n",
       "      <td>2</td>\n",
       "      <td>10</td>\n",
       "    </tr>\n",
       "    <tr>\n",
       "      <th>18</th>\n",
       "      <td>06-04-2012</td>\n",
       "      <td>India</td>\n",
       "      <td>45</td>\n",
       "      <td>bone fracture</td>\n",
       "      <td>high</td>\n",
       "      <td>regular</td>\n",
       "      <td>63</td>\n",
       "      <td>6</td>\n",
       "      <td>4</td>\n",
       "    </tr>\n",
       "    <tr>\n",
       "      <th>19</th>\n",
       "      <td>06-04-2012</td>\n",
       "      <td>India</td>\n",
       "      <td>24</td>\n",
       "      <td>bone fracture</td>\n",
       "      <td>low</td>\n",
       "      <td>regular</td>\n",
       "      <td>72</td>\n",
       "      <td>2</td>\n",
       "      <td>11</td>\n",
       "    </tr>\n",
       "    <tr>\n",
       "      <th>20</th>\n",
       "      <td>06-04-2012</td>\n",
       "      <td>India</td>\n",
       "      <td>41</td>\n",
       "      <td>cancer</td>\n",
       "      <td>moderate</td>\n",
       "      <td>irregular</td>\n",
       "      <td>75</td>\n",
       "      <td>4</td>\n",
       "      <td>14</td>\n",
       "    </tr>\n",
       "    <tr>\n",
       "      <th>21</th>\n",
       "      <td>06-04-2012</td>\n",
       "      <td>India</td>\n",
       "      <td>32</td>\n",
       "      <td>astma</td>\n",
       "      <td>low</td>\n",
       "      <td>irregular</td>\n",
       "      <td>77</td>\n",
       "      <td>2</td>\n",
       "      <td>12</td>\n",
       "    </tr>\n",
       "    <tr>\n",
       "      <th>22</th>\n",
       "      <td>06-04-2012</td>\n",
       "      <td>India</td>\n",
       "      <td>38</td>\n",
       "      <td>cancer</td>\n",
       "      <td>low</td>\n",
       "      <td>irregular</td>\n",
       "      <td>70</td>\n",
       "      <td>2</td>\n",
       "      <td>4</td>\n",
       "    </tr>\n",
       "    <tr>\n",
       "      <th>23</th>\n",
       "      <td>06-04-2012</td>\n",
       "      <td>India</td>\n",
       "      <td>46</td>\n",
       "      <td>cancer</td>\n",
       "      <td>high</td>\n",
       "      <td>irregular</td>\n",
       "      <td>101</td>\n",
       "      <td>6</td>\n",
       "      <td>9</td>\n",
       "    </tr>\n",
       "    <tr>\n",
       "      <th>24</th>\n",
       "      <td>06-04-2012</td>\n",
       "      <td>India</td>\n",
       "      <td>38</td>\n",
       "      <td>bone fracture</td>\n",
       "      <td>moderate</td>\n",
       "      <td>regular</td>\n",
       "      <td>62</td>\n",
       "      <td>4</td>\n",
       "      <td>6</td>\n",
       "    </tr>\n",
       "    <tr>\n",
       "      <th>25</th>\n",
       "      <td>06-04-2012</td>\n",
       "      <td>India</td>\n",
       "      <td>25</td>\n",
       "      <td>bone fracture</td>\n",
       "      <td>high</td>\n",
       "      <td>regular</td>\n",
       "      <td>81</td>\n",
       "      <td>6</td>\n",
       "      <td>12</td>\n",
       "    </tr>\n",
       "    <tr>\n",
       "      <th>26</th>\n",
       "      <td>8/29/2012</td>\n",
       "      <td>India</td>\n",
       "      <td>36</td>\n",
       "      <td>fever</td>\n",
       "      <td>high</td>\n",
       "      <td>irregular</td>\n",
       "      <td>88</td>\n",
       "      <td>6</td>\n",
       "      <td>11</td>\n",
       "    </tr>\n",
       "    <tr>\n",
       "      <th>27</th>\n",
       "      <td>5/26/2012</td>\n",
       "      <td>India</td>\n",
       "      <td>44</td>\n",
       "      <td>fever</td>\n",
       "      <td>moderate</td>\n",
       "      <td>irregular</td>\n",
       "      <td>65</td>\n",
       "      <td>4</td>\n",
       "      <td>2</td>\n",
       "    </tr>\n",
       "    <tr>\n",
       "      <th>28</th>\n",
       "      <td>9/22/2012</td>\n",
       "      <td>India</td>\n",
       "      <td>43</td>\n",
       "      <td>fever</td>\n",
       "      <td>high</td>\n",
       "      <td>regular</td>\n",
       "      <td>75</td>\n",
       "      <td>6</td>\n",
       "      <td>1</td>\n",
       "    </tr>\n",
       "    <tr>\n",
       "      <th>29</th>\n",
       "      <td>08-09-2012</td>\n",
       "      <td>India</td>\n",
       "      <td>29</td>\n",
       "      <td>heartstroke</td>\n",
       "      <td>low</td>\n",
       "      <td>irregular</td>\n",
       "      <td>66</td>\n",
       "      <td>2</td>\n",
       "      <td>5</td>\n",
       "    </tr>\n",
       "    <tr>\n",
       "      <th>...</th>\n",
       "      <td>...</td>\n",
       "      <td>...</td>\n",
       "      <td>...</td>\n",
       "      <td>...</td>\n",
       "      <td>...</td>\n",
       "      <td>...</td>\n",
       "      <td>...</td>\n",
       "      <td>...</td>\n",
       "      <td>...</td>\n",
       "    </tr>\n",
       "    <tr>\n",
       "      <th>469</th>\n",
       "      <td>3/26/2012</td>\n",
       "      <td>India</td>\n",
       "      <td>8</td>\n",
       "      <td>fever</td>\n",
       "      <td>high</td>\n",
       "      <td>irregular</td>\n",
       "      <td>66</td>\n",
       "      <td>6</td>\n",
       "      <td>4</td>\n",
       "    </tr>\n",
       "    <tr>\n",
       "      <th>470</th>\n",
       "      <td>08-07-2012</td>\n",
       "      <td>India</td>\n",
       "      <td>27</td>\n",
       "      <td>heartstroke</td>\n",
       "      <td>moderate</td>\n",
       "      <td>regular</td>\n",
       "      <td>70</td>\n",
       "      <td>4</td>\n",
       "      <td>9</td>\n",
       "    </tr>\n",
       "    <tr>\n",
       "      <th>471</th>\n",
       "      <td>12-02-2012</td>\n",
       "      <td>India</td>\n",
       "      <td>37</td>\n",
       "      <td>cancer</td>\n",
       "      <td>low</td>\n",
       "      <td>regular</td>\n",
       "      <td>72</td>\n",
       "      <td>2</td>\n",
       "      <td>6</td>\n",
       "    </tr>\n",
       "    <tr>\n",
       "      <th>472</th>\n",
       "      <td>2/27/2012</td>\n",
       "      <td>India</td>\n",
       "      <td>26</td>\n",
       "      <td>bone fracture</td>\n",
       "      <td>low</td>\n",
       "      <td>regular</td>\n",
       "      <td>72</td>\n",
       "      <td>2</td>\n",
       "      <td>12</td>\n",
       "    </tr>\n",
       "    <tr>\n",
       "      <th>473</th>\n",
       "      <td>6/20/2012</td>\n",
       "      <td>India</td>\n",
       "      <td>28</td>\n",
       "      <td>heartstroke</td>\n",
       "      <td>high</td>\n",
       "      <td>regular</td>\n",
       "      <td>93</td>\n",
       "      <td>6</td>\n",
       "      <td>11</td>\n",
       "    </tr>\n",
       "    <tr>\n",
       "      <th>474</th>\n",
       "      <td>9/18/2012</td>\n",
       "      <td>India</td>\n",
       "      <td>33</td>\n",
       "      <td>cancer</td>\n",
       "      <td>moderate</td>\n",
       "      <td>regular</td>\n",
       "      <td>59</td>\n",
       "      <td>4</td>\n",
       "      <td>2</td>\n",
       "    </tr>\n",
       "    <tr>\n",
       "      <th>475</th>\n",
       "      <td>08-05-2012</td>\n",
       "      <td>India</td>\n",
       "      <td>46</td>\n",
       "      <td>fever</td>\n",
       "      <td>high</td>\n",
       "      <td>regular</td>\n",
       "      <td>88</td>\n",
       "      <td>6</td>\n",
       "      <td>1</td>\n",
       "    </tr>\n",
       "    <tr>\n",
       "      <th>476</th>\n",
       "      <td>12/18/2012</td>\n",
       "      <td>India</td>\n",
       "      <td>31</td>\n",
       "      <td>fever</td>\n",
       "      <td>high</td>\n",
       "      <td>irregular</td>\n",
       "      <td>63</td>\n",
       "      <td>6</td>\n",
       "      <td>5</td>\n",
       "    </tr>\n",
       "    <tr>\n",
       "      <th>477</th>\n",
       "      <td>09-02-2012</td>\n",
       "      <td>India</td>\n",
       "      <td>40</td>\n",
       "      <td>cancer</td>\n",
       "      <td>moderate</td>\n",
       "      <td>irregular</td>\n",
       "      <td>61</td>\n",
       "      <td>4</td>\n",
       "      <td>2</td>\n",
       "    </tr>\n",
       "    <tr>\n",
       "      <th>478</th>\n",
       "      <td>9/28/2012</td>\n",
       "      <td>India</td>\n",
       "      <td>38</td>\n",
       "      <td>cancer</td>\n",
       "      <td>high</td>\n",
       "      <td>regular</td>\n",
       "      <td>65</td>\n",
       "      <td>6</td>\n",
       "      <td>15</td>\n",
       "    </tr>\n",
       "    <tr>\n",
       "      <th>479</th>\n",
       "      <td>07-03-2012</td>\n",
       "      <td>India</td>\n",
       "      <td>29</td>\n",
       "      <td>bone fracture</td>\n",
       "      <td>low</td>\n",
       "      <td>regular</td>\n",
       "      <td>63</td>\n",
       "      <td>2</td>\n",
       "      <td>3</td>\n",
       "    </tr>\n",
       "    <tr>\n",
       "      <th>480</th>\n",
       "      <td>11-11-2012</td>\n",
       "      <td>India</td>\n",
       "      <td>34</td>\n",
       "      <td>bone fracture</td>\n",
       "      <td>moderate</td>\n",
       "      <td>irregular</td>\n",
       "      <td>75</td>\n",
       "      <td>4</td>\n",
       "      <td>3</td>\n",
       "    </tr>\n",
       "    <tr>\n",
       "      <th>481</th>\n",
       "      <td>9/25/2012</td>\n",
       "      <td>India</td>\n",
       "      <td>23</td>\n",
       "      <td>cancer</td>\n",
       "      <td>moderate</td>\n",
       "      <td>regular</td>\n",
       "      <td>70</td>\n",
       "      <td>4</td>\n",
       "      <td>10</td>\n",
       "    </tr>\n",
       "    <tr>\n",
       "      <th>482</th>\n",
       "      <td>09-01-2012</td>\n",
       "      <td>India</td>\n",
       "      <td>37</td>\n",
       "      <td>astma</td>\n",
       "      <td>low</td>\n",
       "      <td>regular</td>\n",
       "      <td>74</td>\n",
       "      <td>2</td>\n",
       "      <td>5</td>\n",
       "    </tr>\n",
       "    <tr>\n",
       "      <th>483</th>\n",
       "      <td>11/18/2012</td>\n",
       "      <td>India</td>\n",
       "      <td>37</td>\n",
       "      <td>cancer</td>\n",
       "      <td>high</td>\n",
       "      <td>irregular</td>\n",
       "      <td>52</td>\n",
       "      <td>6</td>\n",
       "      <td>2</td>\n",
       "    </tr>\n",
       "    <tr>\n",
       "      <th>484</th>\n",
       "      <td>7/18/2012</td>\n",
       "      <td>India</td>\n",
       "      <td>61</td>\n",
       "      <td>cancer</td>\n",
       "      <td>moderate</td>\n",
       "      <td>regular</td>\n",
       "      <td>89</td>\n",
       "      <td>4</td>\n",
       "      <td>1</td>\n",
       "    </tr>\n",
       "    <tr>\n",
       "      <th>485</th>\n",
       "      <td>5/16/2012</td>\n",
       "      <td>India</td>\n",
       "      <td>8</td>\n",
       "      <td>bone fracture</td>\n",
       "      <td>low</td>\n",
       "      <td>irregular</td>\n",
       "      <td>73</td>\n",
       "      <td>2</td>\n",
       "      <td>5</td>\n",
       "    </tr>\n",
       "    <tr>\n",
       "      <th>486</th>\n",
       "      <td>11/19/2012</td>\n",
       "      <td>India</td>\n",
       "      <td>37</td>\n",
       "      <td>bone fracture</td>\n",
       "      <td>high</td>\n",
       "      <td>regular</td>\n",
       "      <td>87</td>\n",
       "      <td>6</td>\n",
       "      <td>2</td>\n",
       "    </tr>\n",
       "    <tr>\n",
       "      <th>487</th>\n",
       "      <td>12/26/2012</td>\n",
       "      <td>India</td>\n",
       "      <td>39</td>\n",
       "      <td>fever</td>\n",
       "      <td>low</td>\n",
       "      <td>regular</td>\n",
       "      <td>76</td>\n",
       "      <td>2</td>\n",
       "      <td>15</td>\n",
       "    </tr>\n",
       "    <tr>\n",
       "      <th>488</th>\n",
       "      <td>11-02-2012</td>\n",
       "      <td>India</td>\n",
       "      <td>30</td>\n",
       "      <td>fever</td>\n",
       "      <td>moderate</td>\n",
       "      <td>irregular</td>\n",
       "      <td>77</td>\n",
       "      <td>4</td>\n",
       "      <td>3</td>\n",
       "    </tr>\n",
       "    <tr>\n",
       "      <th>489</th>\n",
       "      <td>02-05-2012</td>\n",
       "      <td>India</td>\n",
       "      <td>55</td>\n",
       "      <td>fever</td>\n",
       "      <td>low</td>\n",
       "      <td>irregular</td>\n",
       "      <td>79</td>\n",
       "      <td>2</td>\n",
       "      <td>3</td>\n",
       "    </tr>\n",
       "    <tr>\n",
       "      <th>490</th>\n",
       "      <td>02-05-2012</td>\n",
       "      <td>India</td>\n",
       "      <td>29</td>\n",
       "      <td>heartstroke</td>\n",
       "      <td>low</td>\n",
       "      <td>regular</td>\n",
       "      <td>87</td>\n",
       "      <td>2</td>\n",
       "      <td>10</td>\n",
       "    </tr>\n",
       "    <tr>\n",
       "      <th>491</th>\n",
       "      <td>02-05-2012</td>\n",
       "      <td>India</td>\n",
       "      <td>41</td>\n",
       "      <td>cancer</td>\n",
       "      <td>high</td>\n",
       "      <td>irregular</td>\n",
       "      <td>75</td>\n",
       "      <td>6</td>\n",
       "      <td>2</td>\n",
       "    </tr>\n",
       "    <tr>\n",
       "      <th>492</th>\n",
       "      <td>12-05-2012</td>\n",
       "      <td>India</td>\n",
       "      <td>38</td>\n",
       "      <td>heartstroke</td>\n",
       "      <td>moderate</td>\n",
       "      <td>regular</td>\n",
       "      <td>91</td>\n",
       "      <td>4</td>\n",
       "      <td>8</td>\n",
       "    </tr>\n",
       "    <tr>\n",
       "      <th>493</th>\n",
       "      <td>12-05-2012</td>\n",
       "      <td>India</td>\n",
       "      <td>47</td>\n",
       "      <td>cancer</td>\n",
       "      <td>high</td>\n",
       "      <td>irregular</td>\n",
       "      <td>62</td>\n",
       "      <td>6</td>\n",
       "      <td>3</td>\n",
       "    </tr>\n",
       "    <tr>\n",
       "      <th>494</th>\n",
       "      <td>12-05-2012</td>\n",
       "      <td>India</td>\n",
       "      <td>38</td>\n",
       "      <td>cancer</td>\n",
       "      <td>high</td>\n",
       "      <td>regular</td>\n",
       "      <td>59</td>\n",
       "      <td>6</td>\n",
       "      <td>6</td>\n",
       "    </tr>\n",
       "    <tr>\n",
       "      <th>495</th>\n",
       "      <td>12-05-2012</td>\n",
       "      <td>India</td>\n",
       "      <td>36</td>\n",
       "      <td>bone fracture</td>\n",
       "      <td>moderate</td>\n",
       "      <td>regular</td>\n",
       "      <td>86</td>\n",
       "      <td>4</td>\n",
       "      <td>9</td>\n",
       "    </tr>\n",
       "    <tr>\n",
       "      <th>496</th>\n",
       "      <td>12-05-2012</td>\n",
       "      <td>India</td>\n",
       "      <td>32</td>\n",
       "      <td>bone fracture</td>\n",
       "      <td>high</td>\n",
       "      <td>regular</td>\n",
       "      <td>68</td>\n",
       "      <td>6</td>\n",
       "      <td>6</td>\n",
       "    </tr>\n",
       "    <tr>\n",
       "      <th>497</th>\n",
       "      <td>12-05-2012</td>\n",
       "      <td>India</td>\n",
       "      <td>40</td>\n",
       "      <td>fever</td>\n",
       "      <td>low</td>\n",
       "      <td>irregular</td>\n",
       "      <td>61</td>\n",
       "      <td>2</td>\n",
       "      <td>30</td>\n",
       "    </tr>\n",
       "    <tr>\n",
       "      <th>498</th>\n",
       "      <td>12-05-2012</td>\n",
       "      <td>India</td>\n",
       "      <td>26</td>\n",
       "      <td>fever</td>\n",
       "      <td>moderate</td>\n",
       "      <td>irregular</td>\n",
       "      <td>70</td>\n",
       "      <td>6</td>\n",
       "      <td>7</td>\n",
       "    </tr>\n",
       "  </tbody>\n",
       "</table>\n",
       "<p>499 rows × 9 columns</p>\n",
       "</div>"
      ],
      "text/plain": [
       "           date location  age        disease sevearity_of_the_disease  \\\n",
       "0    06-04-2012    India   42    heartstroke                     high   \n",
       "1    07-05-2012    India   41         cancer                      low   \n",
       "2    09-01-2012    India   42    heartstroke                 moderate   \n",
       "3    05-11-2012    India   39         cancer                      low   \n",
       "4    06-04-2012    India   43         cancer                      low   \n",
       "5    07-05-2012    India   44  bone fracture                     high   \n",
       "6    09-01-2012    India   50  bone fracture                 moderate   \n",
       "7    05-11-2012    India   29          fever                     high   \n",
       "8    09-01-2012    India   44          fever                     high   \n",
       "9    09-01-2012    India   27    heartstroke                 moderate   \n",
       "10   09-01-2012    India   31         cancer                     high   \n",
       "11   09-01-2012    India   24  bone fracture                      low   \n",
       "12   09-01-2012    India   34    heartstroke                 moderate   \n",
       "13   09-01-2012    India   25         cancer                 moderate   \n",
       "14   09-01-2012    India    8          fever                      low   \n",
       "15   06-04-2012    India   45          fever                     high   \n",
       "16   06-04-2012    India   58         cancer                 moderate   \n",
       "17   06-04-2012    India   24         cancer                      low   \n",
       "18   06-04-2012    India   45  bone fracture                     high   \n",
       "19   06-04-2012    India   24  bone fracture                      low   \n",
       "20   06-04-2012    India   41         cancer                 moderate   \n",
       "21   06-04-2012    India   32          astma                      low   \n",
       "22   06-04-2012    India   38         cancer                      low   \n",
       "23   06-04-2012    India   46         cancer                     high   \n",
       "24   06-04-2012    India   38  bone fracture                 moderate   \n",
       "25   06-04-2012    India   25  bone fracture                     high   \n",
       "26    8/29/2012    India   36          fever                     high   \n",
       "27    5/26/2012    India   44          fever                 moderate   \n",
       "28    9/22/2012    India   43          fever                     high   \n",
       "29   08-09-2012    India   29    heartstroke                      low   \n",
       "..          ...      ...  ...            ...                      ...   \n",
       "469   3/26/2012    India    8          fever                     high   \n",
       "470  08-07-2012    India   27    heartstroke                 moderate   \n",
       "471  12-02-2012    India   37         cancer                      low   \n",
       "472   2/27/2012    India   26  bone fracture                      low   \n",
       "473   6/20/2012    India   28    heartstroke                     high   \n",
       "474   9/18/2012    India   33         cancer                 moderate   \n",
       "475  08-05-2012    India   46          fever                     high   \n",
       "476  12/18/2012    India   31          fever                     high   \n",
       "477  09-02-2012    India   40         cancer                 moderate   \n",
       "478   9/28/2012    India   38         cancer                     high   \n",
       "479  07-03-2012    India   29  bone fracture                      low   \n",
       "480  11-11-2012    India   34  bone fracture                 moderate   \n",
       "481   9/25/2012    India   23         cancer                 moderate   \n",
       "482  09-01-2012    India   37          astma                      low   \n",
       "483  11/18/2012    India   37         cancer                     high   \n",
       "484   7/18/2012    India   61         cancer                 moderate   \n",
       "485   5/16/2012    India    8  bone fracture                      low   \n",
       "486  11/19/2012    India   37  bone fracture                     high   \n",
       "487  12/26/2012    India   39          fever                      low   \n",
       "488  11-02-2012    India   30          fever                 moderate   \n",
       "489  02-05-2012    India   55          fever                      low   \n",
       "490  02-05-2012    India   29    heartstroke                      low   \n",
       "491  02-05-2012    India   41         cancer                     high   \n",
       "492  12-05-2012    India   38    heartstroke                 moderate   \n",
       "493  12-05-2012    India   47         cancer                     high   \n",
       "494  12-05-2012    India   38         cancer                     high   \n",
       "495  12-05-2012    India   36  bone fracture                 moderate   \n",
       "496  12-05-2012    India   32  bone fracture                     high   \n",
       "497  12-05-2012    India   40          fever                      low   \n",
       "498  12-05-2012    India   26          fever                 moderate   \n",
       "\n",
       "    frequency_of_suffering  pulse  duration_of_suffering  length_of_stay  \n",
       "0                  regural     96                      6               3  \n",
       "1                irregular     61                      2               2  \n",
       "2                irregular     64                      4               1  \n",
       "3                irregular     76                      2               5  \n",
       "4                  regular     67                      2               2  \n",
       "5                irregular     83                      6               7  \n",
       "6                irregular     68                      4               3  \n",
       "7                  regular     63                      6               3  \n",
       "8                  regular     69                      6              10  \n",
       "9                irregular     65                      4               2  \n",
       "10                 regular     73                      6               8  \n",
       "11               irregular     63                      2               3  \n",
       "12               irregular     82                      4               6  \n",
       "13               irregular     73                      4               9  \n",
       "14                 regular     69                      2               6  \n",
       "15               irregular     68                      6              30  \n",
       "16                 regular     66                      4               7  \n",
       "17               irregular     72                      2              10  \n",
       "18                 regular     63                      6               4  \n",
       "19                 regular     72                      2              11  \n",
       "20               irregular     75                      4              14  \n",
       "21               irregular     77                      2              12  \n",
       "22               irregular     70                      2               4  \n",
       "23               irregular    101                      6               9  \n",
       "24                 regular     62                      4               6  \n",
       "25                 regular     81                      6              12  \n",
       "26               irregular     88                      6              11  \n",
       "27               irregular     65                      4               2  \n",
       "28                 regular     75                      6               1  \n",
       "29               irregular     66                      2               5  \n",
       "..                     ...    ...                    ...             ...  \n",
       "469              irregular     66                      6               4  \n",
       "470                regular     70                      4               9  \n",
       "471                regular     72                      2               6  \n",
       "472                regular     72                      2              12  \n",
       "473                regular     93                      6              11  \n",
       "474                regular     59                      4               2  \n",
       "475                regular     88                      6               1  \n",
       "476              irregular     63                      6               5  \n",
       "477              irregular     61                      4               2  \n",
       "478                regular     65                      6              15  \n",
       "479                regular     63                      2               3  \n",
       "480              irregular     75                      4               3  \n",
       "481                regular     70                      4              10  \n",
       "482                regular     74                      2               5  \n",
       "483              irregular     52                      6               2  \n",
       "484                regular     89                      4               1  \n",
       "485              irregular     73                      2               5  \n",
       "486                regular     87                      6               2  \n",
       "487                regular     76                      2              15  \n",
       "488              irregular     77                      4               3  \n",
       "489              irregular     79                      2               3  \n",
       "490                regular     87                      2              10  \n",
       "491              irregular     75                      6               2  \n",
       "492                regular     91                      4               8  \n",
       "493              irregular     62                      6               3  \n",
       "494                regular     59                      6               6  \n",
       "495                regular     86                      4               9  \n",
       "496                regular     68                      6               6  \n",
       "497              irregular     61                      2              30  \n",
       "498              irregular     70                      6               7  \n",
       "\n",
       "[499 rows x 9 columns]"
      ]
     },
     "execution_count": 2,
     "metadata": {},
     "output_type": "execute_result"
    }
   ],
   "source": [
    "dataset = pd.read_csv(r'C:\\Users\\Welcome\\Stay_of_patient.csv')\n",
    "dataset"
   ]
  },
  {
   "cell_type": "code",
   "execution_count": 3,
   "metadata": {
    "collapsed": false
   },
   "outputs": [
    {
     "data": {
      "text/plain": [
       "'C:\\\\Anaconda3\\\\Scripts'"
      ]
     },
     "execution_count": 3,
     "metadata": {},
     "output_type": "execute_result"
    }
   ],
   "source": [
    "import os\n",
    "os.getcwd()"
   ]
  },
  {
   "cell_type": "code",
   "execution_count": 4,
   "metadata": {
    "collapsed": false
   },
   "outputs": [
    {
     "data": {
      "text/plain": [
       "date                        False\n",
       "location                    False\n",
       "age                         False\n",
       "disease                     False\n",
       "sevearity_of_the_disease    False\n",
       "frequency_of_suffering      False\n",
       "pulse                       False\n",
       "duration_of_suffering       False\n",
       "length_of_stay              False\n",
       "dtype: bool"
      ]
     },
     "execution_count": 4,
     "metadata": {},
     "output_type": "execute_result"
    }
   ],
   "source": [
    "dataset.isnull().any()"
   ]
  },
  {
   "cell_type": "code",
   "execution_count": 5,
   "metadata": {
    "collapsed": true
   },
   "outputs": [],
   "source": [
    "x = dataset.iloc[:, 2:8].values\n",
    "y = dataset.iloc[:, 8].values"
   ]
  },
  {
   "cell_type": "code",
   "execution_count": 6,
   "metadata": {
    "collapsed": false
   },
   "outputs": [
    {
     "data": {
      "text/plain": [
       "array([[42, 'heartstroke', 'high', 'regural', 96, 6],\n",
       "       [41, 'cancer', 'low', 'irregular', 61, 2],\n",
       "       [42, 'heartstroke', 'moderate', 'irregular', 64, 4],\n",
       "       ...,\n",
       "       [32, 'bone fracture', 'high', 'regular', 68, 6],\n",
       "       [40, 'fever', 'low', 'irregular', 61, 2],\n",
       "       [26, 'fever', 'moderate', 'irregular', 70, 6]], dtype=object)"
      ]
     },
     "execution_count": 6,
     "metadata": {},
     "output_type": "execute_result"
    }
   ],
   "source": [
    "x"
   ]
  },
  {
   "cell_type": "code",
   "execution_count": 7,
   "metadata": {
    "collapsed": false
   },
   "outputs": [
    {
     "data": {
      "text/plain": [
       "array([ 3,  2,  1,  5,  2,  7,  3,  3, 10,  2,  8,  3,  6,  9,  6, 30,  7,\n",
       "       10,  4, 11, 14, 12,  4,  9,  6, 12, 11,  2,  1,  5,  2, 15,  3,  3,\n",
       "       10,  2,  8,  3,  6,  9,  6, 30,  7, 10,  4, 11, 14, 12,  4,  9,  6,\n",
       "       12, 11,  2,  1,  5,  2, 15,  3,  3, 10,  2,  1,  5,  2, 15,  3,  3,\n",
       "       10,  2,  8,  3,  6,  9,  6, 30,  7, 10,  4, 11, 14, 12,  4,  9,  6,\n",
       "       12, 11,  2,  1,  5,  2, 15,  3,  3, 10,  2,  8,  3,  6,  9,  6, 30,\n",
       "        7, 10,  4, 11, 14, 12,  4,  9,  6, 12, 11,  2,  1,  5,  2, 15,  3,\n",
       "        3, 10,  2,  1,  5,  2, 15,  3,  3, 10,  2,  8,  3,  6,  9,  6, 30,\n",
       "        7, 10,  4, 11, 14, 12,  4,  9,  6, 12, 11,  2,  1,  5,  2, 15,  3,\n",
       "        3, 10,  2,  8,  3,  6,  9,  6, 30,  7, 10,  4, 11, 14, 12,  4,  9,\n",
       "        6, 12, 11,  2,  1,  5,  2, 15,  3,  3, 10,  2,  1,  5,  2, 15,  3,\n",
       "        3, 10,  2,  8,  3,  6,  9,  6, 30,  7, 10,  4, 11, 14, 12,  4,  9,\n",
       "        6, 12, 11,  2,  1,  5,  2, 15,  3,  3, 10,  2,  8,  3,  6,  9,  6,\n",
       "       30,  7, 10,  4, 11, 14, 12,  4,  9,  6, 12, 11,  2,  1,  5,  2, 15,\n",
       "        3,  3, 10,  5,  2,  1,  5,  2, 15,  3,  3, 10,  2,  8,  3,  6,  9,\n",
       "        6, 30,  7, 10,  4, 11, 14, 12,  4,  9,  6, 12, 11,  2,  1,  5,  2,\n",
       "       15,  3,  3, 10,  2,  8,  3,  6,  9,  6, 30,  7, 10,  4, 11, 14, 12,\n",
       "        4,  9,  6, 12, 11,  2,  1,  5,  2, 15,  3,  3, 10,  2,  1,  5,  2,\n",
       "       15,  3,  3, 10,  2,  8,  3,  6,  9,  6, 30,  7, 10,  4, 11, 14, 12,\n",
       "        4,  9,  6, 12, 11,  2,  1,  5,  2, 15,  3,  3, 10,  2,  8,  3,  6,\n",
       "        9,  6, 30,  7, 10,  4, 11, 14, 12,  4,  9,  6, 12, 11,  2,  1,  5,\n",
       "        2, 15,  3,  3, 10,  2,  1,  5,  2, 15,  3,  3, 10,  2,  8,  3,  6,\n",
       "        9,  6, 30,  7, 10,  4, 11, 14, 12,  4,  9,  6, 12, 11,  2,  1,  5,\n",
       "        2, 15,  3,  3, 10,  2,  8,  3,  6,  9,  6, 30,  7, 10,  4, 11, 14,\n",
       "       12,  4,  9,  6, 12, 11,  2,  1,  5,  2, 15,  3,  3, 10,  2,  1,  5,\n",
       "        2, 15,  3,  3, 10,  2,  8,  3,  6,  9,  6, 30,  7, 10,  4, 11, 14,\n",
       "       12,  4,  9,  6, 12, 11,  2,  1,  5,  2, 15,  3,  3, 10,  2,  8,  3,\n",
       "        6,  9,  6, 30,  7, 10,  4, 11, 14, 12,  4,  9,  6, 12, 11,  2,  1,\n",
       "        5,  2, 15,  3,  3, 10,  5,  2,  1,  5,  2, 15,  3,  3, 10,  2,  8,\n",
       "        3,  6,  9,  6, 30,  7], dtype=int64)"
      ]
     },
     "execution_count": 7,
     "metadata": {},
     "output_type": "execute_result"
    }
   ],
   "source": [
    "y"
   ]
  },
  {
   "cell_type": "code",
   "execution_count": 8,
   "metadata": {
    "collapsed": true
   },
   "outputs": [],
   "source": [
    "from sklearn.preprocessing import LabelEncoder\n",
    "\n",
    "#Label Encoding\n",
    "\n",
    "labelencoder_X = LabelEncoder()\n",
    "x[:, 1] = labelencoder_X.fit_transform(x[:,1])\n",
    "labelencoder_X2 = LabelEncoder()\n",
    "x[:, 2] = labelencoder_X2.fit_transform(x[:,2])\n",
    "labelencoder_X3 = LabelEncoder()\n",
    "x[:, 3] = labelencoder_X3.fit_transform(x[:,3])\n"
   ]
  },
  {
   "cell_type": "code",
   "execution_count": 9,
   "metadata": {
    "collapsed": false
   },
   "outputs": [
    {
     "data": {
      "text/plain": [
       "array([[42, 4, 0, 2, 96, 6],\n",
       "       [41, 2, 1, 0, 61, 2],\n",
       "       [42, 4, 2, 0, 64, 4],\n",
       "       ...,\n",
       "       [32, 1, 0, 1, 68, 6],\n",
       "       [40, 3, 1, 0, 61, 2],\n",
       "       [26, 3, 2, 0, 70, 6]], dtype=object)"
      ]
     },
     "execution_count": 9,
     "metadata": {},
     "output_type": "execute_result"
    }
   ],
   "source": [
    "x"
   ]
  },
  {
   "cell_type": "code",
   "execution_count": 29,
   "metadata": {
    "collapsed": false
   },
   "outputs": [
    {
     "name": "stderr",
     "output_type": "stream",
     "text": [
      "C:\\Anaconda3\\lib\\site-packages\\sklearn\\preprocessing\\_encoders.py:363: FutureWarning: The handling of integer data will change in version 0.22. Currently, the categories are determined based on the range [0, max(values)], while in the future they will be determined based on the unique values.\n",
      "If you want the future behaviour and silence this warning, you can specify \"categories='auto'\".\n",
      "In case you used a LabelEncoder before this OneHotEncoder to convert the categories to integers, then you can now use the OneHotEncoder directly.\n",
      "  warnings.warn(msg, FutureWarning)\n",
      "C:\\Anaconda3\\lib\\site-packages\\sklearn\\preprocessing\\_encoders.py:385: DeprecationWarning: The 'categorical_features' keyword is deprecated in version 0.20 and will be removed in 0.22. You can use the ColumnTransformer instead.\n",
      "  \"use the ColumnTransformer instead.\", DeprecationWarning)\n"
     ]
    }
   ],
   "source": [
    "from sklearn.preprocessing import OneHotEncoder\n",
    "onehotencoder = OneHotEncoder(categorical_features = [1])\n",
    "x = onehotencoder.fit_transform(x).toarray()\n",
    "x=x[:,1:]"
   ]
  },
  {
   "cell_type": "code",
   "execution_count": 66,
   "metadata": {
    "collapsed": false
   },
   "outputs": [
    {
     "data": {
      "text/plain": [
       "<function ndarray.reshape>"
      ]
     },
     "execution_count": 66,
     "metadata": {},
     "output_type": "execute_result"
    }
   ],
   "source": [
    "x.reshape"
   ]
  },
  {
   "cell_type": "code",
   "execution_count": 49,
   "metadata": {
    "collapsed": false
   },
   "outputs": [
    {
     "name": "stderr",
     "output_type": "stream",
     "text": [
      "C:\\Anaconda3\\lib\\site-packages\\sklearn\\preprocessing\\_encoders.py:363: FutureWarning: The handling of integer data will change in version 0.22. Currently, the categories are determined based on the range [0, max(values)], while in the future they will be determined based on the unique values.\n",
      "If you want the future behaviour and silence this warning, you can specify \"categories='auto'\".\n",
      "In case you used a LabelEncoder before this OneHotEncoder to convert the categories to integers, then you can now use the OneHotEncoder directly.\n",
      "  warnings.warn(msg, FutureWarning)\n",
      "C:\\Anaconda3\\lib\\site-packages\\sklearn\\preprocessing\\_encoders.py:385: DeprecationWarning: The 'categorical_features' keyword is deprecated in version 0.20 and will be removed in 0.22. You can use the ColumnTransformer instead.\n",
      "  \"use the ColumnTransformer instead.\", DeprecationWarning)\n"
     ]
    }
   ],
   "source": [
    "onehotencoder = OneHotEncoder(categorical_features = [6])\n",
    "x = onehotencoder.fit_transform(x).toarray()\n",
    "x=x[:,1:]"
   ]
  },
  {
   "cell_type": "code",
   "execution_count": 50,
   "metadata": {
    "collapsed": false
   },
   "outputs": [
    {
     "data": {
      "text/plain": [
       "array([[ 0.,  0.,  0., ...,  0., 96.,  6.],\n",
       "       [ 0.,  0.,  0., ...,  1., 61.,  2.],\n",
       "       [ 0.,  0.,  0., ...,  2., 64.,  4.],\n",
       "       ...,\n",
       "       [ 0.,  0.,  0., ...,  0., 68.,  6.],\n",
       "       [ 0.,  0.,  0., ...,  1., 61.,  2.],\n",
       "       [ 0.,  0.,  0., ...,  2., 70.,  6.]])"
      ]
     },
     "execution_count": 50,
     "metadata": {},
     "output_type": "execute_result"
    }
   ],
   "source": [
    "x"
   ]
  },
  {
   "cell_type": "code",
   "execution_count": 51,
   "metadata": {
    "collapsed": true
   },
   "outputs": [],
   "source": [
    "from sklearn.model_selection import train_test_split\n",
    "x_train, x_test, y_train, y_test = train_test_split(x, y, test_size = 0.2, random_state = 0)"
   ]
  },
  {
   "cell_type": "code",
   "execution_count": 52,
   "metadata": {
    "collapsed": false
   },
   "outputs": [
    {
     "data": {
      "text/plain": [
       "array([[ 0.,  0.,  0., ...,  1., 64.,  2.],\n",
       "       [ 0.,  0.,  0., ...,  1., 77.,  2.],\n",
       "       [ 0.,  0.,  0., ...,  1., 88.,  2.],\n",
       "       ...,\n",
       "       [ 0.,  0.,  0., ...,  0., 71.,  6.],\n",
       "       [ 0.,  0.,  0., ...,  1., 73.,  2.],\n",
       "       [ 0.,  0.,  0., ...,  1., 95.,  2.]])"
      ]
     },
     "execution_count": 52,
     "metadata": {},
     "output_type": "execute_result"
    }
   ],
   "source": [
    "x_train"
   ]
  },
  {
   "cell_type": "code",
   "execution_count": 53,
   "metadata": {
    "collapsed": false
   },
   "outputs": [
    {
     "data": {
      "text/plain": [
       "array([12,  3,  3, 11,  3,  6,  2,  2,  3,  2, 15,  3, 10, 10,  2, 30,  3,\n",
       "       10,  2, 10, 10,  9,  6,  5,  8,  3,  3,  4,  5,  9,  1,  9,  2,  5,\n",
       "       11,  3,  8,  2,  2,  3,  6, 11,  6, 11, 15,  2, 10,  5,  2,  7, 12,\n",
       "       12, 30,  8,  1,  4, 10, 14,  9,  6,  3, 11,  2, 11, 12, 12,  1,  2,\n",
       "        7,  9,  3,  6,  2,  1,  9, 11,  4, 12, 15,  2,  2,  4, 14,  3,  5,\n",
       "        7, 15, 10, 11,  5,  3,  5,  3, 15,  3,  3,  3,  3,  4,  4, 12,  6,\n",
       "        2, 15, 12,  6,  6, 10,  3, 10,  6, 14, 30,  3,  1, 14, 10, 11, 10,\n",
       "        4,  2,  1,  3, 10, 12,  2,  2, 15,  2,  4,  2, 10, 14, 11,  2,  3,\n",
       "       30,  7,  8, 11,  2,  3,  6,  3, 11,  3, 11, 11,  9,  3,  1,  7, 10,\n",
       "        4,  3, 12,  2, 11,  2,  6,  9,  2,  1,  5,  3,  9, 12,  3,  2,  6,\n",
       "        4,  8, 12, 10,  4,  3,  4,  7,  4,  9,  2, 11,  2, 10,  6,  1,  4,\n",
       "        3,  6,  8, 10,  2, 12, 14,  5,  3,  6,  3,  9, 11,  6,  6,  9, 14,\n",
       "       12,  3,  4, 30,  9,  6,  2,  6,  5,  3,  7,  9,  9,  6, 11, 15, 11,\n",
       "        2,  7,  6,  6,  3,  6, 11,  5,  1, 14,  4,  5, 12, 15,  9, 11, 10,\n",
       "        2,  6,  5, 10,  2,  6,  1, 12, 14,  3, 10,  3,  8, 11, 12,  8,  3,\n",
       "        3, 30,  5,  6,  5,  4, 10,  1,  5,  7,  1, 15,  8,  3,  9, 10, 11,\n",
       "        3, 12,  3,  2,  6,  4,  5,  2,  3, 10, 30, 10, 11,  2, 14,  9,  2,\n",
       "        2,  4,  6,  6,  2,  6, 12,  1,  9,  3, 10,  5,  3, 11, 30, 12,  9,\n",
       "        9,  6,  2, 10,  6,  6,  3,  9, 15,  4, 11,  3, 15,  6, 15, 14,  7,\n",
       "       30,  6,  7, 11,  2,  7,  3,  4,  6,  1,  2,  3, 30, 10,  9,  1,  5,\n",
       "        2, 10, 15,  5,  4, 15,  3,  3, 15,  4,  1, 12,  1,  3, 10,  2,  4,\n",
       "        4, 15,  9,  3,  2,  8, 10, 10,  1, 10,  5, 10,  6,  6,  3, 12, 11,\n",
       "        8,  5,  1,  5,  9,  9,  9,  2,  1, 12,  8,  2, 12,  2,  8, 15,  2,\n",
       "        3, 30,  8,  4,  6, 15, 12, 11], dtype=int64)"
      ]
     },
     "execution_count": 53,
     "metadata": {},
     "output_type": "execute_result"
    }
   ],
   "source": [
    "y_train"
   ]
  },
  {
   "cell_type": "code",
   "execution_count": 54,
   "metadata": {
    "collapsed": true
   },
   "outputs": [],
   "source": [
    "from sklearn.linear_model import LinearRegression"
   ]
  },
  {
   "cell_type": "code",
   "execution_count": 55,
   "metadata": {
    "collapsed": true
   },
   "outputs": [],
   "source": [
    "mlr=LinearRegression()"
   ]
  },
  {
   "cell_type": "code",
   "execution_count": 56,
   "metadata": {
    "collapsed": false
   },
   "outputs": [
    {
     "data": {
      "text/plain": [
       "LinearRegression(copy_X=True, fit_intercept=True, n_jobs=None,\n",
       "         normalize=False)"
      ]
     },
     "execution_count": 56,
     "metadata": {},
     "output_type": "execute_result"
    }
   ],
   "source": [
    "mlr.fit(x_train,y_train)"
   ]
  },
  {
   "cell_type": "code",
   "execution_count": 57,
   "metadata": {
    "collapsed": true
   },
   "outputs": [],
   "source": [
    "y_pred = mlr.predict(x_test)"
   ]
  },
  {
   "cell_type": "code",
   "execution_count": 58,
   "metadata": {
    "collapsed": false
   },
   "outputs": [
    {
     "data": {
      "text/plain": [
       "array([[ 0.,  0.,  0., ...,  0., 67.,  6.],\n",
       "       [ 0.,  0.,  0., ...,  2., 96.,  4.],\n",
       "       [ 0.,  0.,  0., ...,  2., 85.,  4.],\n",
       "       ...,\n",
       "       [ 0.,  0.,  0., ...,  0., 60.,  6.],\n",
       "       [ 0.,  0.,  0., ...,  2., 66.,  4.],\n",
       "       [ 0.,  0.,  0., ...,  0., 70.,  6.]])"
      ]
     },
     "execution_count": 58,
     "metadata": {},
     "output_type": "execute_result"
    }
   ],
   "source": [
    "x_test"
   ]
  },
  {
   "cell_type": "code",
   "execution_count": 59,
   "metadata": {
    "collapsed": false
   },
   "outputs": [
    {
     "data": {
      "text/plain": [
       "array([ 9.26423745e+00,  3.88249307e+00,  6.84285073e+00,  2.52625513e-01,\n",
       "        3.72566323e+00,  7.00673013e+00,  9.76838784e+00,  9.01204019e+00,\n",
       "        3.82905679e+00,  5.53218179e+00,  5.93440347e+00,  7.95723062e+00,\n",
       "        3.47480874e+00,  9.76545815e+00,  6.33850194e+00,  8.54219155e+00,\n",
       "        6.10615640e+00,  8.49000649e+00,  7.18519692e+00,  4.09809976e+00,\n",
       "        8.20039468e+00,  3.24653726e+00,  6.20893960e+00,  5.34797769e+00,\n",
       "        9.77839761e+00,  7.88081460e+00,  8.29304604e+00,  6.59199624e+00,\n",
       "        8.10798745e+00, -4.91193966e+12, -1.70932368e+05,  8.43818765e+00,\n",
       "        4.38884072e+00,  6.55952554e+00,  6.23347573e+00,  6.09260659e+00,\n",
       "        1.15478068e+01,  6.89741616e+00,  1.01858683e+01,  6.99519448e+00,\n",
       "        6.77131753e+00,  5.35974218e+00,  6.19403939e+00,  1.13329630e+01,\n",
       "        4.12731461e+00,  8.17121987e+00,  8.43452554e+00,  8.04011636e+00,\n",
       "        7.96626382e+00,  9.12764077e+00,  7.42656045e+00,  6.35786538e+00,\n",
       "        1.17340188e+00,  9.49556069e+00,  7.34004312e+00,  9.08162026e+00,\n",
       "        5.66670327e+00,  1.10299845e+01,  8.29713540e+00,  6.08320718e+00,\n",
       "        4.54841714e+00, -1.70932064e+05,  5.71382241e+00,  4.80329995e+00,\n",
       "        8.58198647e+00,  9.28328042e+00,  9.08540444e+00,  7.64167886e+00,\n",
       "        8.88948159e+00,  5.37495590e+00,  5.71376138e+00,  8.41279702e+00,\n",
       "        6.69160562e+00,  9.00911050e+00,  7.50691323e+00,  9.05885415e+00,\n",
       "        7.32673745e+00,  5.74726968e+00,  7.78071694e+00,  1.30890831e+01,\n",
       "        8.54097085e+00,  8.36604409e+00,  8.47651772e+00,  8.61628251e+00,\n",
       "        8.68657773e+00,  6.61726479e+00,  4.38435464e+00,  2.91520791e+00,\n",
       "        7.11356263e+00,  7.42537026e+00,  7.98787026e+00,  5.56147866e+00,\n",
       "        1.02018595e+01,  1.14220744e+01,  2.70055680e+00,  9.45625405e+00,\n",
       "        6.00526528e+00,  7.03303628e+00,  6.36213784e+00,  8.36183267e+00])"
      ]
     },
     "execution_count": 59,
     "metadata": {},
     "output_type": "execute_result"
    }
   ],
   "source": [
    "y_pred"
   ]
  },
  {
   "cell_type": "code",
   "execution_count": 60,
   "metadata": {
    "collapsed": false
   },
   "outputs": [
    {
     "data": {
      "text/plain": [
       "array([ 2,  9,  7,  9,  2, 30, 30,  3,  9,  3,  5,  2,  3,  4, 12,  2, 14,\n",
       "        2, 10,  3, 12,  2, 10,  4, 11,  7, 12, 15,  8,  2, 11,  3,  2,  3,\n",
       "       15, 15,  8,  6, 12,  3, 12, 14, 30, 30,  7,  2,  3,  6,  2,  7,  2,\n",
       "        6, 30,  6,  6,  6, 11,  2,  4,  2,  4,  2, 12,  5, 10,  7,  8,  7,\n",
       "        2, 30,  4, 15,  6, 15,  5, 10,  9,  6, 10,  1,  3,  5,  2,  9,  1,\n",
       "       12,  9,  3, 14,  1,  6,  6, 10, 14,  3, 14,  2,  4, 10,  1],\n",
       "      dtype=int64)"
      ]
     },
     "execution_count": 60,
     "metadata": {},
     "output_type": "execute_result"
    }
   ],
   "source": [
    "y_test"
   ]
  },
  {
   "cell_type": "code",
   "execution_count": 61,
   "metadata": {
    "collapsed": false
   },
   "outputs": [
    {
     "data": {
      "text/plain": [
       "4.657425927722921"
      ]
     },
     "execution_count": 61,
     "metadata": {},
     "output_type": "execute_result"
    }
   ],
   "source": [
    "mlr.intercept_"
   ]
  },
  {
   "cell_type": "code",
   "execution_count": 62,
   "metadata": {
    "collapsed": false
   },
   "outputs": [
    {
     "data": {
      "text/plain": [
       "(399, 61)"
      ]
     },
     "execution_count": 62,
     "metadata": {},
     "output_type": "execute_result"
    }
   ],
   "source": [
    "x_train.shape"
   ]
  },
  {
   "cell_type": "code",
   "execution_count": 63,
   "metadata": {
    "collapsed": false
   },
   "outputs": [
    {
     "data": {
      "text/plain": [
       "array([ 4.46168643e+00,  7.64534502e+00, -4.91193966e+12, -3.70434503e+00,\n",
       "        7.87480158e-01,  1.42846477e+00, -1.69482021e+00, -7.71141166e-01,\n",
       "       -2.34211734e+00, -4.90115356e+00, -2.28881836e+00,  2.23095703e+00,\n",
       "        4.04785156e-01,  1.63073730e+00, -3.64880371e+00,  4.99633789e-01,\n",
       "        2.78076172e-01, -1.29541016e+00, -1.74829102e+00, -2.02709961e+00,\n",
       "       -1.22399902e+00,  1.62231445e-01, -1.15246582e+00, -2.10479736e+00,\n",
       "        8.12133789e-01, -2.04528809e-01, -2.48767090e+00, -6.94740295e+00,\n",
       "        2.46656799e+00,  8.21166992e-01, -5.82427979e-01,  5.02097321e+00,\n",
       "       -1.93128204e+00,  3.81107330e-01,  1.88475990e+00, -4.78426170e+00,\n",
       "       -4.64205933e+00, -2.47077942e+00,  4.97718811e-01, -1.36393166e+00,\n",
       "       -4.76746368e+00, -3.64714813e+00, -1.70940402e+05, -5.60693359e+00,\n",
       "       -3.43276978e+00, -8.07182693e+00, -2.74894714e+00, -1.28577423e+00,\n",
       "       -2.09308624e+00,  1.62200165e+00, -5.69067383e+00, -5.67120743e+00,\n",
       "       -5.73534393e+00,  3.69384766e-01,  1.89135742e+00,  1.95605469e+00,\n",
       "        1.04650879e+00,  2.65698242e+00, -5.66894531e-01,  3.80859375e-02,\n",
       "       -1.80419922e-01])"
      ]
     },
     "execution_count": 63,
     "metadata": {},
     "output_type": "execute_result"
    }
   ],
   "source": [
    "mlr.coef_"
   ]
  },
  {
   "cell_type": "code",
   "execution_count": 64,
   "metadata": {
    "collapsed": true
   },
   "outputs": [],
   "source": [
    "from sklearn.metrics import r2_score"
   ]
  },
  {
   "cell_type": "code",
   "execution_count": 65,
   "metadata": {
    "collapsed": false
   },
   "outputs": [
    {
     "data": {
      "text/plain": [
       "-5.066057856750197e+21"
      ]
     },
     "execution_count": 65,
     "metadata": {},
     "output_type": "execute_result"
    }
   ],
   "source": [
    "r2_score(y_test,y_pred)"
   ]
  },
  {
   "cell_type": "code",
   "execution_count": null,
   "metadata": {
    "collapsed": true
   },
   "outputs": [],
   "source": []
  },
  {
   "cell_type": "code",
   "execution_count": null,
   "metadata": {
    "collapsed": false
   },
   "outputs": [],
   "source": []
  },
  {
   "cell_type": "code",
   "execution_count": null,
   "metadata": {
    "collapsed": true
   },
   "outputs": [],
   "source": []
  },
  {
   "cell_type": "code",
   "execution_count": null,
   "metadata": {
    "collapsed": true
   },
   "outputs": [],
   "source": []
  },
  {
   "cell_type": "code",
   "execution_count": null,
   "metadata": {
    "collapsed": true
   },
   "outputs": [],
   "source": []
  }
 ],
 "metadata": {
  "kernelspec": {
   "display_name": "Python 3",
   "language": "python",
   "name": "python3"
  },
  "language_info": {
   "codemirror_mode": {
    "name": "ipython",
    "version": 3
   },
   "file_extension": ".py",
   "mimetype": "text/x-python",
   "name": "python",
   "nbconvert_exporter": "python",
   "pygments_lexer": "ipython3",
   "version": "3.5.6"
  }
 },
 "nbformat": 4,
 "nbformat_minor": 2
}
